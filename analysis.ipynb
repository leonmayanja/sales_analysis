{
 "cells": [
  {
   "cell_type": "code",
   "execution_count": 1,
   "metadata": {},
   "outputs": [],
   "source": [
    "import pandas as pd\n",
    "import glob\n",
    "import os\n",
    "import matplotlib.pyplot as plt\n",
    "import warnings\n",
    "warnings.filterwarnings('ignore')"
   ]
  },
  {
   "cell_type": "markdown",
   "metadata": {},
   "source": [
    "## **1) Data Cleaning and Preperation**"
   ]
  },
  {
   "cell_type": "markdown",
   "metadata": {},
   "source": [
    "#### 1.1 Clean files in 'data' and write them out to a new folder 'clean_data'"
   ]
  },
  {
   "cell_type": "code",
   "execution_count": 2,
   "metadata": {},
   "outputs": [],
   "source": [
    "list_files = glob.glob(\"./data/*.csv\")\n",
    "for file in list_files:\n",
    "    df = pd.read_csv(file)\n",
    "\n",
    "    # Find and delete recurring header rows\n",
    "    filt = df['Order ID'] == 'Order ID'\n",
    "    df.drop(index = df[filt].index, inplace=True)\n",
    "\n",
    "    # Find and delete duplicate rows\n",
    "    dup = df.duplicated(keep='first')\n",
    "    df.drop(index = df[dup].index, inplace=True)\n",
    "\n",
    "    # Find and delete rows with all values as NaN\n",
    "    df.dropna(how='all', inplace=True)\n",
    "\n",
    "    filename = os.path.basename(file)\n",
    "    new_filename = f'./clean_data/{filename}'\n",
    "    df.to_csv(new_filename, index = False)"
   ]
  },
  {
   "cell_type": "markdown",
   "metadata": {},
   "source": [
    "#### 1.2 Merge the files in 'clean_data' into one file 'all_data.csv'"
   ]
  },
  {
   "cell_type": "code",
   "execution_count": 3,
   "metadata": {},
   "outputs": [],
   "source": [
    "list_files = glob.glob(\"./clean_data/*.csv\")\n",
    "merged = pd.DataFrame()\n",
    "\n",
    "for file in list_files:\n",
    "    current_df = pd.read_csv(file)\n",
    "    merged = pd.concat([merged, current_df]).sort_values(by='Order Date')\n",
    "    \n",
    "merged.to_csv(\"all_data.csv\", index=False)"
   ]
  },
  {
   "cell_type": "markdown",
   "metadata": {},
   "source": [
    "#### 1.3 Read in the merged data"
   ]
  },
  {
   "cell_type": "code",
   "execution_count": 4,
   "metadata": {},
   "outputs": [
    {
     "data": {
      "text/html": [
       "<div>\n",
       "<style scoped>\n",
       "    .dataframe tbody tr th:only-of-type {\n",
       "        vertical-align: middle;\n",
       "    }\n",
       "\n",
       "    .dataframe tbody tr th {\n",
       "        vertical-align: top;\n",
       "    }\n",
       "\n",
       "    .dataframe thead th {\n",
       "        text-align: right;\n",
       "    }\n",
       "</style>\n",
       "<table border=\"1\" class=\"dataframe\">\n",
       "  <thead>\n",
       "    <tr style=\"text-align: right;\">\n",
       "      <th></th>\n",
       "      <th>Order ID</th>\n",
       "      <th>Product</th>\n",
       "      <th>Quantity Ordered</th>\n",
       "      <th>Price Each</th>\n",
       "      <th>Order Date</th>\n",
       "      <th>Purchase Address</th>\n",
       "    </tr>\n",
       "  </thead>\n",
       "  <tbody>\n",
       "    <tr>\n",
       "      <th>0</th>\n",
       "      <td>147268</td>\n",
       "      <td>Wired Headphones</td>\n",
       "      <td>1</td>\n",
       "      <td>11.99</td>\n",
       "      <td>01/01/19 03:07</td>\n",
       "      <td>9 Lake St, New York City, NY 10001</td>\n",
       "    </tr>\n",
       "    <tr>\n",
       "      <th>1</th>\n",
       "      <td>148041</td>\n",
       "      <td>USB-C Charging Cable</td>\n",
       "      <td>1</td>\n",
       "      <td>11.95</td>\n",
       "      <td>01/01/19 03:40</td>\n",
       "      <td>760 Church St, San Francisco, CA 94016</td>\n",
       "    </tr>\n",
       "    <tr>\n",
       "      <th>2</th>\n",
       "      <td>149343</td>\n",
       "      <td>Apple Airpods Headphones</td>\n",
       "      <td>1</td>\n",
       "      <td>150.00</td>\n",
       "      <td>01/01/19 04:56</td>\n",
       "      <td>735 5th St, New York City, NY 10001</td>\n",
       "    </tr>\n",
       "    <tr>\n",
       "      <th>3</th>\n",
       "      <td>149964</td>\n",
       "      <td>AAA Batteries (4-pack)</td>\n",
       "      <td>1</td>\n",
       "      <td>2.99</td>\n",
       "      <td>01/01/19 05:53</td>\n",
       "      <td>75 Jackson St, Dallas, TX 75001</td>\n",
       "    </tr>\n",
       "    <tr>\n",
       "      <th>4</th>\n",
       "      <td>149350</td>\n",
       "      <td>USB-C Charging Cable</td>\n",
       "      <td>2</td>\n",
       "      <td>11.95</td>\n",
       "      <td>01/01/19 06:03</td>\n",
       "      <td>943 2nd St, Atlanta, GA 30301</td>\n",
       "    </tr>\n",
       "  </tbody>\n",
       "</table>\n",
       "</div>"
      ],
      "text/plain": [
       "   Order ID                   Product  Quantity Ordered  Price Each  \\\n",
       "0    147268          Wired Headphones                 1       11.99   \n",
       "1    148041      USB-C Charging Cable                 1       11.95   \n",
       "2    149343  Apple Airpods Headphones                 1      150.00   \n",
       "3    149964    AAA Batteries (4-pack)                 1        2.99   \n",
       "4    149350      USB-C Charging Cable                 2       11.95   \n",
       "\n",
       "       Order Date                        Purchase Address  \n",
       "0  01/01/19 03:07      9 Lake St, New York City, NY 10001  \n",
       "1  01/01/19 03:40  760 Church St, San Francisco, CA 94016  \n",
       "2  01/01/19 04:56     735 5th St, New York City, NY 10001  \n",
       "3  01/01/19 05:53         75 Jackson St, Dallas, TX 75001  \n",
       "4  01/01/19 06:03           943 2nd St, Atlanta, GA 30301  "
      ]
     },
     "execution_count": 4,
     "metadata": {},
     "output_type": "execute_result"
    }
   ],
   "source": [
    "all_data = pd.read_csv('all_data.csv')\n",
    "all_data.head()"
   ]
  },
  {
   "cell_type": "markdown",
   "metadata": {},
   "source": [
    "#### 1.4 Convert Order Date into datetime dtype"
   ]
  },
  {
   "cell_type": "code",
   "execution_count": 5,
   "metadata": {},
   "outputs": [],
   "source": [
    "all_data['Order Date'] = pd.to_datetime(all_data['Order Date'])"
   ]
  },
  {
   "cell_type": "code",
   "execution_count": 6,
   "metadata": {},
   "outputs": [
    {
     "data": {
      "text/plain": [
       "Order ID                     int64\n",
       "Product                     object\n",
       "Quantity Ordered             int64\n",
       "Price Each                 float64\n",
       "Order Date          datetime64[ns]\n",
       "Purchase Address            object\n",
       "dtype: object"
      ]
     },
     "execution_count": 6,
     "metadata": {},
     "output_type": "execute_result"
    }
   ],
   "source": [
    "all_data.dtypes"
   ]
  },
  {
   "cell_type": "markdown",
   "metadata": {},
   "source": [
    "#### 1.5 Drop all data from any year other than 2019"
   ]
  },
  {
   "cell_type": "code",
   "execution_count": 7,
   "metadata": {},
   "outputs": [
    {
     "data": {
      "text/html": [
       "<div>\n",
       "<style scoped>\n",
       "    .dataframe tbody tr th:only-of-type {\n",
       "        vertical-align: middle;\n",
       "    }\n",
       "\n",
       "    .dataframe tbody tr th {\n",
       "        vertical-align: top;\n",
       "    }\n",
       "\n",
       "    .dataframe thead th {\n",
       "        text-align: right;\n",
       "    }\n",
       "</style>\n",
       "<table border=\"1\" class=\"dataframe\">\n",
       "  <thead>\n",
       "    <tr style=\"text-align: right;\">\n",
       "      <th></th>\n",
       "      <th>Order ID</th>\n",
       "      <th>Product</th>\n",
       "      <th>Quantity Ordered</th>\n",
       "      <th>Price Each</th>\n",
       "      <th>Order Date</th>\n",
       "      <th>Purchase Address</th>\n",
       "    </tr>\n",
       "  </thead>\n",
       "  <tbody>\n",
       "    <tr>\n",
       "      <th>302</th>\n",
       "      <td>311386</td>\n",
       "      <td>iPhone</td>\n",
       "      <td>1</td>\n",
       "      <td>700.00</td>\n",
       "      <td>2020-01-01 00:10:00</td>\n",
       "      <td>730 Pine St, San Francisco, CA 94016</td>\n",
       "    </tr>\n",
       "    <tr>\n",
       "      <th>303</th>\n",
       "      <td>311386</td>\n",
       "      <td>Apple Airpods Headphones</td>\n",
       "      <td>1</td>\n",
       "      <td>150.00</td>\n",
       "      <td>2020-01-01 00:10:00</td>\n",
       "      <td>730 Pine St, San Francisco, CA 94016</td>\n",
       "    </tr>\n",
       "    <tr>\n",
       "      <th>304</th>\n",
       "      <td>300759</td>\n",
       "      <td>20in Monitor</td>\n",
       "      <td>1</td>\n",
       "      <td>109.99</td>\n",
       "      <td>2020-01-01 00:14:00</td>\n",
       "      <td>193 5th St, Austin, TX 73301</td>\n",
       "    </tr>\n",
       "    <tr>\n",
       "      <th>305</th>\n",
       "      <td>302393</td>\n",
       "      <td>Lightning Charging Cable</td>\n",
       "      <td>1</td>\n",
       "      <td>14.95</td>\n",
       "      <td>2020-01-01 00:14:00</td>\n",
       "      <td>108 Jefferson St, Boston, MA 02215</td>\n",
       "    </tr>\n",
       "    <tr>\n",
       "      <th>306</th>\n",
       "      <td>297817</td>\n",
       "      <td>iPhone</td>\n",
       "      <td>1</td>\n",
       "      <td>700.00</td>\n",
       "      <td>2020-01-01 00:22:00</td>\n",
       "      <td>519 13th St, New York City, NY 10001</td>\n",
       "    </tr>\n",
       "  </tbody>\n",
       "</table>\n",
       "</div>"
      ],
      "text/plain": [
       "     Order ID                   Product  Quantity Ordered  Price Each  \\\n",
       "302    311386                    iPhone                 1      700.00   \n",
       "303    311386  Apple Airpods Headphones                 1      150.00   \n",
       "304    300759              20in Monitor                 1      109.99   \n",
       "305    302393  Lightning Charging Cable                 1       14.95   \n",
       "306    297817                    iPhone                 1      700.00   \n",
       "\n",
       "             Order Date                      Purchase Address  \n",
       "302 2020-01-01 00:10:00  730 Pine St, San Francisco, CA 94016  \n",
       "303 2020-01-01 00:10:00  730 Pine St, San Francisco, CA 94016  \n",
       "304 2020-01-01 00:14:00          193 5th St, Austin, TX 73301  \n",
       "305 2020-01-01 00:14:00    108 Jefferson St, Boston, MA 02215  \n",
       "306 2020-01-01 00:22:00  519 13th St, New York City, NY 10001  "
      ]
     },
     "execution_count": 7,
     "metadata": {},
     "output_type": "execute_result"
    }
   ],
   "source": [
    "all_data[all_data['Order Date'].dt.year == 2020].head()"
   ]
  },
  {
   "cell_type": "code",
   "execution_count": 8,
   "metadata": {},
   "outputs": [],
   "source": [
    "all_data = all_data[all_data['Order Date'].dt.year == 2019]"
   ]
  },
  {
   "cell_type": "code",
   "execution_count": 9,
   "metadata": {},
   "outputs": [
    {
     "data": {
      "text/html": [
       "<div>\n",
       "<style scoped>\n",
       "    .dataframe tbody tr th:only-of-type {\n",
       "        vertical-align: middle;\n",
       "    }\n",
       "\n",
       "    .dataframe tbody tr th {\n",
       "        vertical-align: top;\n",
       "    }\n",
       "\n",
       "    .dataframe thead th {\n",
       "        text-align: right;\n",
       "    }\n",
       "</style>\n",
       "<table border=\"1\" class=\"dataframe\">\n",
       "  <thead>\n",
       "    <tr style=\"text-align: right;\">\n",
       "      <th></th>\n",
       "      <th>Order ID</th>\n",
       "      <th>Product</th>\n",
       "      <th>Quantity Ordered</th>\n",
       "      <th>Price Each</th>\n",
       "      <th>Order Date</th>\n",
       "      <th>Purchase Address</th>\n",
       "    </tr>\n",
       "  </thead>\n",
       "  <tbody>\n",
       "  </tbody>\n",
       "</table>\n",
       "</div>"
      ],
      "text/plain": [
       "Empty DataFrame\n",
       "Columns: [Order ID, Product, Quantity Ordered, Price Each, Order Date, Purchase Address]\n",
       "Index: []"
      ]
     },
     "execution_count": 9,
     "metadata": {},
     "output_type": "execute_result"
    }
   ],
   "source": [
    "all_data[all_data['Order Date'].dt.year == 2020]"
   ]
  },
  {
   "cell_type": "markdown",
   "metadata": {},
   "source": [
    "#### 1.6 Add Sales column"
   ]
  },
  {
   "cell_type": "code",
   "execution_count": 10,
   "metadata": {},
   "outputs": [
    {
     "data": {
      "text/html": [
       "<div>\n",
       "<style scoped>\n",
       "    .dataframe tbody tr th:only-of-type {\n",
       "        vertical-align: middle;\n",
       "    }\n",
       "\n",
       "    .dataframe tbody tr th {\n",
       "        vertical-align: top;\n",
       "    }\n",
       "\n",
       "    .dataframe thead th {\n",
       "        text-align: right;\n",
       "    }\n",
       "</style>\n",
       "<table border=\"1\" class=\"dataframe\">\n",
       "  <thead>\n",
       "    <tr style=\"text-align: right;\">\n",
       "      <th></th>\n",
       "      <th>Order ID</th>\n",
       "      <th>Product</th>\n",
       "      <th>Quantity Ordered</th>\n",
       "      <th>Price Each</th>\n",
       "      <th>Order Date</th>\n",
       "      <th>Purchase Address</th>\n",
       "      <th>Sales</th>\n",
       "    </tr>\n",
       "  </thead>\n",
       "  <tbody>\n",
       "    <tr>\n",
       "      <th>0</th>\n",
       "      <td>147268</td>\n",
       "      <td>Wired Headphones</td>\n",
       "      <td>1</td>\n",
       "      <td>11.99</td>\n",
       "      <td>2019-01-01 03:07:00</td>\n",
       "      <td>9 Lake St, New York City, NY 10001</td>\n",
       "      <td>11.99</td>\n",
       "    </tr>\n",
       "    <tr>\n",
       "      <th>1</th>\n",
       "      <td>148041</td>\n",
       "      <td>USB-C Charging Cable</td>\n",
       "      <td>1</td>\n",
       "      <td>11.95</td>\n",
       "      <td>2019-01-01 03:40:00</td>\n",
       "      <td>760 Church St, San Francisco, CA 94016</td>\n",
       "      <td>11.95</td>\n",
       "    </tr>\n",
       "    <tr>\n",
       "      <th>2</th>\n",
       "      <td>149343</td>\n",
       "      <td>Apple Airpods Headphones</td>\n",
       "      <td>1</td>\n",
       "      <td>150.00</td>\n",
       "      <td>2019-01-01 04:56:00</td>\n",
       "      <td>735 5th St, New York City, NY 10001</td>\n",
       "      <td>150.00</td>\n",
       "    </tr>\n",
       "    <tr>\n",
       "      <th>3</th>\n",
       "      <td>149964</td>\n",
       "      <td>AAA Batteries (4-pack)</td>\n",
       "      <td>1</td>\n",
       "      <td>2.99</td>\n",
       "      <td>2019-01-01 05:53:00</td>\n",
       "      <td>75 Jackson St, Dallas, TX 75001</td>\n",
       "      <td>2.99</td>\n",
       "    </tr>\n",
       "    <tr>\n",
       "      <th>4</th>\n",
       "      <td>149350</td>\n",
       "      <td>USB-C Charging Cable</td>\n",
       "      <td>2</td>\n",
       "      <td>11.95</td>\n",
       "      <td>2019-01-01 06:03:00</td>\n",
       "      <td>943 2nd St, Atlanta, GA 30301</td>\n",
       "      <td>23.90</td>\n",
       "    </tr>\n",
       "  </tbody>\n",
       "</table>\n",
       "</div>"
      ],
      "text/plain": [
       "   Order ID                   Product  Quantity Ordered  Price Each  \\\n",
       "0    147268          Wired Headphones                 1       11.99   \n",
       "1    148041      USB-C Charging Cable                 1       11.95   \n",
       "2    149343  Apple Airpods Headphones                 1      150.00   \n",
       "3    149964    AAA Batteries (4-pack)                 1        2.99   \n",
       "4    149350      USB-C Charging Cable                 2       11.95   \n",
       "\n",
       "           Order Date                        Purchase Address   Sales  \n",
       "0 2019-01-01 03:07:00      9 Lake St, New York City, NY 10001   11.99  \n",
       "1 2019-01-01 03:40:00  760 Church St, San Francisco, CA 94016   11.95  \n",
       "2 2019-01-01 04:56:00     735 5th St, New York City, NY 10001  150.00  \n",
       "3 2019-01-01 05:53:00         75 Jackson St, Dallas, TX 75001    2.99  \n",
       "4 2019-01-01 06:03:00           943 2nd St, Atlanta, GA 30301   23.90  "
      ]
     },
     "execution_count": 10,
     "metadata": {},
     "output_type": "execute_result"
    }
   ],
   "source": [
    "all_data['Sales'] = all_data['Quantity Ordered'] * all_data['Price Each']\n",
    "all_data.head()"
   ]
  },
  {
   "cell_type": "markdown",
   "metadata": {},
   "source": [
    "#### 1.7 Add City column"
   ]
  },
  {
   "cell_type": "code",
   "execution_count": 11,
   "metadata": {},
   "outputs": [
    {
     "data": {
      "text/html": [
       "<div>\n",
       "<style scoped>\n",
       "    .dataframe tbody tr th:only-of-type {\n",
       "        vertical-align: middle;\n",
       "    }\n",
       "\n",
       "    .dataframe tbody tr th {\n",
       "        vertical-align: top;\n",
       "    }\n",
       "\n",
       "    .dataframe thead th {\n",
       "        text-align: right;\n",
       "    }\n",
       "</style>\n",
       "<table border=\"1\" class=\"dataframe\">\n",
       "  <thead>\n",
       "    <tr style=\"text-align: right;\">\n",
       "      <th></th>\n",
       "      <th>Order ID</th>\n",
       "      <th>Product</th>\n",
       "      <th>Quantity Ordered</th>\n",
       "      <th>Price Each</th>\n",
       "      <th>Order Date</th>\n",
       "      <th>Purchase Address</th>\n",
       "      <th>Sales</th>\n",
       "      <th>City</th>\n",
       "    </tr>\n",
       "  </thead>\n",
       "  <tbody>\n",
       "    <tr>\n",
       "      <th>0</th>\n",
       "      <td>147268</td>\n",
       "      <td>Wired Headphones</td>\n",
       "      <td>1</td>\n",
       "      <td>11.99</td>\n",
       "      <td>2019-01-01 03:07:00</td>\n",
       "      <td>9 Lake St, New York City, NY 10001</td>\n",
       "      <td>11.99</td>\n",
       "      <td>New York City  (NY)</td>\n",
       "    </tr>\n",
       "    <tr>\n",
       "      <th>1</th>\n",
       "      <td>148041</td>\n",
       "      <td>USB-C Charging Cable</td>\n",
       "      <td>1</td>\n",
       "      <td>11.95</td>\n",
       "      <td>2019-01-01 03:40:00</td>\n",
       "      <td>760 Church St, San Francisco, CA 94016</td>\n",
       "      <td>11.95</td>\n",
       "      <td>San Francisco  (CA)</td>\n",
       "    </tr>\n",
       "    <tr>\n",
       "      <th>2</th>\n",
       "      <td>149343</td>\n",
       "      <td>Apple Airpods Headphones</td>\n",
       "      <td>1</td>\n",
       "      <td>150.00</td>\n",
       "      <td>2019-01-01 04:56:00</td>\n",
       "      <td>735 5th St, New York City, NY 10001</td>\n",
       "      <td>150.00</td>\n",
       "      <td>New York City  (NY)</td>\n",
       "    </tr>\n",
       "    <tr>\n",
       "      <th>3</th>\n",
       "      <td>149964</td>\n",
       "      <td>AAA Batteries (4-pack)</td>\n",
       "      <td>1</td>\n",
       "      <td>2.99</td>\n",
       "      <td>2019-01-01 05:53:00</td>\n",
       "      <td>75 Jackson St, Dallas, TX 75001</td>\n",
       "      <td>2.99</td>\n",
       "      <td>Dallas  (TX)</td>\n",
       "    </tr>\n",
       "    <tr>\n",
       "      <th>4</th>\n",
       "      <td>149350</td>\n",
       "      <td>USB-C Charging Cable</td>\n",
       "      <td>2</td>\n",
       "      <td>11.95</td>\n",
       "      <td>2019-01-01 06:03:00</td>\n",
       "      <td>943 2nd St, Atlanta, GA 30301</td>\n",
       "      <td>23.90</td>\n",
       "      <td>Atlanta  (GA)</td>\n",
       "    </tr>\n",
       "  </tbody>\n",
       "</table>\n",
       "</div>"
      ],
      "text/plain": [
       "   Order ID                   Product  Quantity Ordered  Price Each  \\\n",
       "0    147268          Wired Headphones                 1       11.99   \n",
       "1    148041      USB-C Charging Cable                 1       11.95   \n",
       "2    149343  Apple Airpods Headphones                 1      150.00   \n",
       "3    149964    AAA Batteries (4-pack)                 1        2.99   \n",
       "4    149350      USB-C Charging Cable                 2       11.95   \n",
       "\n",
       "           Order Date                        Purchase Address   Sales  \\\n",
       "0 2019-01-01 03:07:00      9 Lake St, New York City, NY 10001   11.99   \n",
       "1 2019-01-01 03:40:00  760 Church St, San Francisco, CA 94016   11.95   \n",
       "2 2019-01-01 04:56:00     735 5th St, New York City, NY 10001  150.00   \n",
       "3 2019-01-01 05:53:00         75 Jackson St, Dallas, TX 75001    2.99   \n",
       "4 2019-01-01 06:03:00           943 2nd St, Atlanta, GA 30301   23.90   \n",
       "\n",
       "                  City  \n",
       "0  New York City  (NY)  \n",
       "1  San Francisco  (CA)  \n",
       "2  New York City  (NY)  \n",
       "3         Dallas  (TX)  \n",
       "4        Atlanta  (GA)  "
      ]
     },
     "execution_count": 11,
     "metadata": {},
     "output_type": "execute_result"
    }
   ],
   "source": [
    "def get_city(address):\n",
    "    return address.split(\",\")[1].strip(\" \")\n",
    "\n",
    "def get_state(address):\n",
    "    return address.split(\",\")[2].split(\" \")[1]\n",
    "\n",
    "all_data['City'] = all_data['Purchase Address'].apply(lambda x: f\"{get_city(x)}  ({get_state(x)})\")\n",
    "all_data.head()"
   ]
  },
  {
   "cell_type": "markdown",
   "metadata": {},
   "source": [
    "#### 1.8 Add Months column"
   ]
  },
  {
   "cell_type": "code",
   "execution_count": 12,
   "metadata": {},
   "outputs": [
    {
     "data": {
      "text/plain": [
       "0    January\n",
       "1    January\n",
       "2    January\n",
       "3    January\n",
       "4    January\n",
       "Name: Months, dtype: object"
      ]
     },
     "execution_count": 12,
     "metadata": {},
     "output_type": "execute_result"
    }
   ],
   "source": [
    "all_data['Months'] = all_data['Order Date'].dt.month_name()\n",
    "all_data.loc[0:4, 'Months']"
   ]
  },
  {
   "cell_type": "markdown",
   "metadata": {},
   "source": [
    "## **2) Data Exploration!**"
   ]
  },
  {
   "cell_type": "markdown",
   "metadata": {},
   "source": [
    "#### 2.1 What was the best month for sales? How much was earned that month?"
   ]
  },
  {
   "cell_type": "code",
   "execution_count": 13,
   "metadata": {},
   "outputs": [
    {
     "data": {
      "image/png": "[encoded data removed]",
      "text/plain": [
       "<Figure size 432x288 with 1 Axes>"
      ]
     },
     "metadata": {
      "needs_background": "light"
     },
     "output_type": "display_data"
    }
   ],
   "source": [
    "all_data.groupby('Months')['Sales'].sum().sort_values(ascending=False).plot(kind='bar', ylabel='Sales in USD ($)');"
   ]
  },
  {
   "cell_type": "markdown",
   "metadata": {},
   "source": [
    "***December** was the best month for sales with a total of **USD 4,608,295.70***"
   ]
  },
  {
   "cell_type": "markdown",
   "metadata": {},
   "source": [
    "#### 2.2 Which city sold the most product?"
   ]
  },
  {
   "cell_type": "code",
   "execution_count": 14,
   "metadata": {},
   "outputs": [
    {
     "data": {
      "image/png": "[encoded data removed]",
      "text/plain": [
       "<Figure size 432x288 with 1 Axes>"
      ]
     },
     "metadata": {
      "needs_background": "light"
     },
     "output_type": "display_data"
    }
   ],
   "source": [
    "all_data.groupby('City')['Quantity Ordered'].sum().sort_values(ascending=False).plot(kind='bar', ylabel='Total Quantity Ordered');"
   ]
  },
  {
   "cell_type": "markdown",
   "metadata": {},
   "source": [
    "*San Francisco (CA) was the best city having sold **50,156** products*"
   ]
  },
  {
   "cell_type": "markdown",
   "metadata": {},
   "source": [
    "#### 2.3 What time should advertisements be displayed to maximize likelihood of customer's buying products?"
   ]
  },
  {
   "cell_type": "code",
   "execution_count": 15,
   "metadata": {},
   "outputs": [
    {
     "data": {
      "text/html": [
       "<div>\n",
       "<style scoped>\n",
       "    .dataframe tbody tr th:only-of-type {\n",
       "        vertical-align: middle;\n",
       "    }\n",
       "\n",
       "    .dataframe tbody tr th {\n",
       "        vertical-align: top;\n",
       "    }\n",
       "\n",
       "    .dataframe thead th {\n",
       "        text-align: right;\n",
       "    }\n",
       "</style>\n",
       "<table border=\"1\" class=\"dataframe\">\n",
       "  <thead>\n",
       "    <tr style=\"text-align: right;\">\n",
       "      <th></th>\n",
       "      <th>Order ID</th>\n",
       "      <th>Product</th>\n",
       "      <th>Quantity Ordered</th>\n",
       "      <th>Price Each</th>\n",
       "      <th>Order Date</th>\n",
       "      <th>Purchase Address</th>\n",
       "      <th>Sales</th>\n",
       "      <th>City</th>\n",
       "      <th>Months</th>\n",
       "      <th>Hour</th>\n",
       "      <th>Count</th>\n",
       "    </tr>\n",
       "  </thead>\n",
       "  <tbody>\n",
       "    <tr>\n",
       "      <th>0</th>\n",
       "      <td>147268</td>\n",
       "      <td>Wired Headphones</td>\n",
       "      <td>1</td>\n",
       "      <td>11.99</td>\n",
       "      <td>2019-01-01 03:07:00</td>\n",
       "      <td>9 Lake St, New York City, NY 10001</td>\n",
       "      <td>11.99</td>\n",
       "      <td>New York City  (NY)</td>\n",
       "      <td>January</td>\n",
       "      <td>3</td>\n",
       "      <td>1</td>\n",
       "    </tr>\n",
       "    <tr>\n",
       "      <th>1</th>\n",
       "      <td>148041</td>\n",
       "      <td>USB-C Charging Cable</td>\n",
       "      <td>1</td>\n",
       "      <td>11.95</td>\n",
       "      <td>2019-01-01 03:40:00</td>\n",
       "      <td>760 Church St, San Francisco, CA 94016</td>\n",
       "      <td>11.95</td>\n",
       "      <td>San Francisco  (CA)</td>\n",
       "      <td>January</td>\n",
       "      <td>3</td>\n",
       "      <td>1</td>\n",
       "    </tr>\n",
       "    <tr>\n",
       "      <th>2</th>\n",
       "      <td>149343</td>\n",
       "      <td>Apple Airpods Headphones</td>\n",
       "      <td>1</td>\n",
       "      <td>150.00</td>\n",
       "      <td>2019-01-01 04:56:00</td>\n",
       "      <td>735 5th St, New York City, NY 10001</td>\n",
       "      <td>150.00</td>\n",
       "      <td>New York City  (NY)</td>\n",
       "      <td>January</td>\n",
       "      <td>4</td>\n",
       "      <td>1</td>\n",
       "    </tr>\n",
       "    <tr>\n",
       "      <th>3</th>\n",
       "      <td>149964</td>\n",
       "      <td>AAA Batteries (4-pack)</td>\n",
       "      <td>1</td>\n",
       "      <td>2.99</td>\n",
       "      <td>2019-01-01 05:53:00</td>\n",
       "      <td>75 Jackson St, Dallas, TX 75001</td>\n",
       "      <td>2.99</td>\n",
       "      <td>Dallas  (TX)</td>\n",
       "      <td>January</td>\n",
       "      <td>5</td>\n",
       "      <td>1</td>\n",
       "    </tr>\n",
       "    <tr>\n",
       "      <th>4</th>\n",
       "      <td>149350</td>\n",
       "      <td>USB-C Charging Cable</td>\n",
       "      <td>2</td>\n",
       "      <td>11.95</td>\n",
       "      <td>2019-01-01 06:03:00</td>\n",
       "      <td>943 2nd St, Atlanta, GA 30301</td>\n",
       "      <td>23.90</td>\n",
       "      <td>Atlanta  (GA)</td>\n",
       "      <td>January</td>\n",
       "      <td>6</td>\n",
       "      <td>1</td>\n",
       "    </tr>\n",
       "  </tbody>\n",
       "</table>\n",
       "</div>"
      ],
      "text/plain": [
       "   Order ID                   Product  Quantity Ordered  Price Each  \\\n",
       "0    147268          Wired Headphones                 1       11.99   \n",
       "1    148041      USB-C Charging Cable                 1       11.95   \n",
       "2    149343  Apple Airpods Headphones                 1      150.00   \n",
       "3    149964    AAA Batteries (4-pack)                 1        2.99   \n",
       "4    149350      USB-C Charging Cable                 2       11.95   \n",
       "\n",
       "           Order Date                        Purchase Address   Sales  \\\n",
       "0 2019-01-01 03:07:00      9 Lake St, New York City, NY 10001   11.99   \n",
       "1 2019-01-01 03:40:00  760 Church St, San Francisco, CA 94016   11.95   \n",
       "2 2019-01-01 04:56:00     735 5th St, New York City, NY 10001  150.00   \n",
       "3 2019-01-01 05:53:00         75 Jackson St, Dallas, TX 75001    2.99   \n",
       "4 2019-01-01 06:03:00           943 2nd St, Atlanta, GA 30301   23.90   \n",
       "\n",
       "                  City   Months  Hour  Count  \n",
       "0  New York City  (NY)  January     3      1  \n",
       "1  San Francisco  (CA)  January     3      1  \n",
       "2  New York City  (NY)  January     4      1  \n",
       "3         Dallas  (TX)  January     5      1  \n",
       "4        Atlanta  (GA)  January     6      1  "
      ]
     },
     "execution_count": 15,
     "metadata": {},
     "output_type": "execute_result"
    }
   ],
   "source": [
    "all_data['Hour'] = all_data['Order Date'].dt.hour\n",
    "all_data['Count'] = 1\n",
    "all_data.head()\n"
   ]
  },
  {
   "cell_type": "code",
   "execution_count": 16,
   "metadata": {},
   "outputs": [
    {
     "data": {
      "image/png": "[encoded data removed]",
      "text/plain": [
       "<Figure size 432x288 with 1 Axes>"
      ]
     },
     "metadata": {
      "needs_background": "light"
     },
     "output_type": "display_data"
    }
   ],
   "source": [
    "keys = [pair for pair, df in all_data.groupby(['Hour'])]\n",
    "\n",
    "plt.plot(keys, all_data.groupby(['Hour']).sum()['Count'])\n",
    "plt.xticks(keys)\n",
    "plt.ylabel('Number of orders /hr')\n",
    "plt.xlabel('Hours')\n",
    "plt.grid()\n",
    "plt.show()"
   ]
  },
  {
   "cell_type": "markdown",
   "metadata": {},
   "source": [
    "*Slightly between **7:00am - 12:00pm** or **5:00pm - 7:00pm***"
   ]
  },
  {
   "cell_type": "markdown",
   "metadata": {},
   "source": [
    "#### 2.4 What product sold the most? Why do you think it sold the most?"
   ]
  },
  {
   "cell_type": "code",
   "execution_count": 17,
   "metadata": {},
   "outputs": [
    {
     "data": {
      "image/png": "[encoded data removed]",
      "text/plain": [
       "<Figure size 432x288 with 1 Axes>"
      ]
     },
     "metadata": {
      "needs_background": "light"
     },
     "output_type": "display_data"
    }
   ],
   "source": [
    "product_group = all_data.groupby('Product')\n",
    "quantity_ordered = product_group.sum()['Quantity Ordered']\n",
    "\n",
    "keys = [pair for pair, df in product_group]\n",
    "plt.bar(keys, quantity_ordered)\n",
    "plt.xticks(keys, rotation='vertical', size=10)\n",
    "plt.ylabel('Quantity Ordered')\n",
    "plt.xlabel('Product Name')\n",
    "plt.show()"
   ]
  },
  {
   "cell_type": "markdown",
   "metadata": {},
   "source": [
    "***AAA batteries (4-pack)** are the most sold item*"
   ]
  },
  {
   "cell_type": "code",
   "execution_count": 18,
   "metadata": {},
   "outputs": [
    {
     "data": {
      "image/png": "[encoded data removed]",
      "text/plain": [
       "<Figure size 432x288 with 2 Axes>"
      ]
     },
     "metadata": {
      "needs_background": "light"
     },
     "output_type": "display_data"
    }
   ],
   "source": [
    "# Referenced: https://stackoverflow.com/questions/14762181/adding-a-y-axis-label-to-secondary-y-axis-in-matplotlib\n",
    "\n",
    "prices = all_data.groupby('Product').mean()['Price Each']\n",
    "\n",
    "fig, ax1 = plt.subplots()\n",
    "\n",
    "ax2 = ax1.twinx()\n",
    "ax1.bar(keys, quantity_ordered, color='g')\n",
    "ax2.plot(keys, prices, color='b')\n",
    "\n",
    "ax1.set_xlabel('Product Name')\n",
    "ax1.set_ylabel('Quantity Ordered', color='g')\n",
    "ax2.set_ylabel('Price ($)', color='b')\n",
    "ax1.set_xticklabels(keys, rotation='vertical', size=10)\n",
    "\n",
    "fig.show()"
   ]
  },
  {
   "cell_type": "markdown",
   "metadata": {},
   "source": [
    "*From the graph above, batteries are the most sold product because they are cheap. Another reason could be due to the fact that many modern devices require batteries to function*"
   ]
  }
 ],
 "metadata": {
  "interpreter": {
   "hash": "e25dd7acda2ce3660739a712240b195219a68ad5929229c5e5de3b21e6b67efa"
  },
  "kernelspec": {
   "display_name": "Python 3.10.1 64-bit ('data_analysis': conda)",
   "language": "python",
   "name": "python3"
  },
  "language_info": {
   "codemirror_mode": {
    "name": "ipython",
    "version": 3
   },
   "file_extension": ".py",
   "mimetype": "text/x-python",
   "name": "python",
   "nbconvert_exporter": "python",
   "pygments_lexer": "ipython3",
   "version": "3.10.1"
  },
  "orig_nbformat": 4
 },
 "nbformat": 4,
 "nbformat_minor": 2
}
